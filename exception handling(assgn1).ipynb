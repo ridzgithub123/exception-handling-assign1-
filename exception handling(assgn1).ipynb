{
 "cells": [
  {
   "cell_type": "code",
   "execution_count": null,
   "id": "e9e23c06-a18a-4704-8e71-5ef722421715",
   "metadata": {},
   "outputs": [],
   "source": [
    " # Q1 what is an exception in python?Write the difference btw exceptions and syntax errors.\n",
    "    '''\n",
    "Exception\n",
    "When in the runtime an error that occurs after passing the syntax test is called exception or logical type.\n",
    "For example, when we divide any number by zero then the ZeroDivisionError exception is raised or\n",
    "when we import a module that does not exist then ImportError is raised.\n",
    "\n",
    "\n",
    "Errors are problems in a program that cause it to stop executing, \n",
    "while exceptions are raised when some internal events occur that change the normal flow of the program .\n",
    "\n",
    "Syntax errors are one type of error that occurs when the proper syntax of the language is not followed .\n",
    "For example, if a colon is missing after an if statement, a syntax error will be thrown .\n",
    "\n",
    "Logical errors (exceptions) occur when an error occurs during runtime after passing the syntax test \n",
    "For example, when we divide any number by zero, the ZeroDivisionError exception is raised .\n",
    "'''\n",
    "    \n",
    " "
   ]
  },
  {
   "cell_type": "code",
   "execution_count": 1,
   "id": "b642461f-7e89-4786-b3b4-8cc578db00f9",
   "metadata": {},
   "outputs": [
    {
     "ename": "ZeroDivisionError",
     "evalue": "division by zero",
     "output_type": "error",
     "traceback": [
      "\u001b[0;31m---------------------------------------------------------------------------\u001b[0m",
      "\u001b[0;31mZeroDivisionError\u001b[0m                         Traceback (most recent call last)",
      "Cell \u001b[0;32mIn[1], line 13\u001b[0m\n\u001b[1;32m     11\u001b[0m \u001b[38;5;66;03m#eg if we run this code it wil thrown an error ieZeroDivisionError\u001b[39;00m\n\u001b[1;32m     12\u001b[0m a\u001b[38;5;241m=\u001b[39m\u001b[38;5;241m5\u001b[39m\n\u001b[0;32m---> 13\u001b[0m b\u001b[38;5;241m=\u001b[39m\u001b[43ma\u001b[49m\u001b[38;5;241;43m/\u001b[39;49m\u001b[38;5;241;43m0\u001b[39;49m\n\u001b[1;32m     14\u001b[0m \u001b[38;5;28mprint\u001b[39m(b)\n",
      "\u001b[0;31mZeroDivisionError\u001b[0m: division by zero"
     ]
    }
   ],
   "source": [
    "#  Q2. What happens when an exception is not handled ?Explain with an example.\n",
    "\n",
    "'''\n",
    "If an exception is not handled in a program, the program will abruptly terminate and the code past the line that caused the exception will not get executed .\n",
    "This can lead to data loss, inconsistent program state, and unpredictable behavior .\n",
    "\n",
    "It is important to handle exceptions properly to ensure that your program continues to run smoothly.\n",
    "When an exception occurs, it is best to catch it and handle it appropriately . \n",
    "This can involve logging the error, displaying an error message to the user, or taking other corrective action .\n",
    "'''\n",
    "#eg if we run this code it wil thrown an error ieZeroDivisionError\n",
    "a=5\n",
    "b=a/0\n",
    "print(b)\n",
    "\n"
   ]
  },
  {
   "cell_type": "code",
   "execution_count": 1,
   "id": "2ef091fb-eb42-4d35-8a7a-adff37c59865",
   "metadata": {},
   "outputs": [
    {
     "name": "stdout",
     "output_type": "stream",
     "text": [
      "division by zero\n"
     ]
    }
   ],
   "source": [
    "#Q3. Which Python statements are used to catch and handle exceptions?Explain with an example.\n",
    "'''\n",
    "\n",
    "Try and except statements are used to catch and handle exceptions in Python. \n",
    "Statements that can raise exceptions are kept inside the try clause and\n",
    "the statements that handle the exception are written inside except clause.\n",
    "'''\n",
    "try:\n",
    "    a=5\n",
    "    b=a/0\n",
    "    print(b)\n",
    "except ZeroDivisionError as e:\n",
    "    print(e)\n",
    "    "
   ]
  },
  {
   "cell_type": "code",
   "execution_count": 2,
   "id": "5c74b390-3af8-4eca-b056-1e2c276c67f3",
   "metadata": {},
   "outputs": [
    {
     "name": "stdout",
     "output_type": "stream",
     "text": [
      "Yeah ! Your answer is : 1\n",
      "This is always executed\n",
      "Sorry ! You are dividing by zero \n",
      "This is always executed\n"
     ]
    }
   ],
   "source": [
    "#Q4 explain with ab example.\n",
    "#try and else\n",
    "#raise\n",
    "#finally\n",
    "'''\n",
    "In try block we put those statements which can raise an exceptions.\n",
    "else block will run if there is no exception raise in code.\n",
    "raise is keyword use to raise an error in pthon.\n",
    "finally block will execute always whether their is an error oor not.\n",
    "\n",
    "'''\n",
    "\n",
    "def divide(x, y):\n",
    "\ttry:\n",
    "\t\t\n",
    "\t\tresult = x // y\n",
    "\texcept ZeroDivisionError:\n",
    "\t\tprint(\"Sorry ! You are dividing by zero \")\n",
    "\telse:\n",
    "\t\tprint(\"Yeah ! Your answer is :\", result)\n",
    "\tfinally:\n",
    "\t\t\n",
    "\t\tprint('This is always executed')\n",
    "\n",
    "\n",
    "divide(3, 2)\n",
    "divide(3, 0)\n",
    "\n"
   ]
  },
  {
   "cell_type": "code",
   "execution_count": 3,
   "id": "f43f5f4d-49d5-42ef-a271-839273c58411",
   "metadata": {},
   "outputs": [
    {
     "name": "stdin",
     "output_type": "stream",
     "text": [
      "Enter a number:  51\n"
     ]
    },
    {
     "name": "stdout",
     "output_type": "stream",
     "text": [
      "Eligible to Vote\n"
     ]
    }
   ],
   "source": [
    "#Q5. What are the custom exceptions in python?why do we need custom exceptions.Explain with an example\n",
    "'''\n",
    "Custom exceptions are those exception which we can raise by ourself\n",
    "ie can define by us accordingly we use raisekeyword to raise a custom exceptions.\n",
    "\n",
    "By using custom exception we can easily get to know about logical error we done in our\n",
    "code we customize only those errors which are not predefined previously.\n",
    "\n",
    "'''\n",
    "\n",
    "class InvalidAgeException(Exception):\n",
    "    pass\n",
    "\n",
    "\n",
    "number = 18\n",
    "\n",
    "try:\n",
    "    input_num = int(input(\"Enter a number: \"))\n",
    "    if input_num < number:\n",
    "        raise InvalidAgeException\n",
    "    else:\n",
    "        print(\"Eligible to Vote\")\n",
    "        \n",
    "except InvalidAgeException:\n",
    "    print(\"Exception occurred: Invalid Age\")"
   ]
  },
  {
   "cell_type": "code",
   "execution_count": 4,
   "id": "460efd45-47ed-4621-b344-7b82e101d458",
   "metadata": {},
   "outputs": [
    {
     "name": "stdin",
     "output_type": "stream",
     "text": [
      "Enter a number:  15\n"
     ]
    },
    {
     "name": "stdout",
     "output_type": "stream",
     "text": [
      "Exception occurred: Invalid Age\n"
     ]
    }
   ],
   "source": [
    "#Q6. Create a custom exception class, use this class to handle exceptions\n",
    "\n",
    "class InvalidAgeException(Exception):\n",
    "    pass\n",
    "\n",
    "\n",
    "number = 18\n",
    "\n",
    "try:\n",
    "    input_num = int(input(\"Enter a number: \"))\n",
    "    if input_num < number:\n",
    "        raise InvalidAgeException\n",
    "    else:\n",
    "        print(\"Eligible to Vote\")\n",
    "        \n",
    "except InvalidAgeException:\n",
    "    print(\"Exception occurred: Invalid Age\")"
   ]
  },
  {
   "cell_type": "code",
   "execution_count": null,
   "id": "eeda8bd6-cde6-485a-8270-f06e3ae713e1",
   "metadata": {},
   "outputs": [],
   "source": []
  }
 ],
 "metadata": {
  "kernelspec": {
   "display_name": "Python 3 (ipykernel)",
   "language": "python",
   "name": "python3"
  },
  "language_info": {
   "codemirror_mode": {
    "name": "ipython",
    "version": 3
   },
   "file_extension": ".py",
   "mimetype": "text/x-python",
   "name": "python",
   "nbconvert_exporter": "python",
   "pygments_lexer": "ipython3",
   "version": "3.10.8"
  }
 },
 "nbformat": 4,
 "nbformat_minor": 5
}
